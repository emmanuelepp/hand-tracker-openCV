{
 "cells": [
  {
   "cell_type": "markdown",
   "metadata": {},
   "source": [
    "### Hand Tracking and Finger Counting System using OpenCV"
   ]
  },
  {
   "cell_type": "code",
   "execution_count": 13,
   "metadata": {},
   "outputs": [],
   "source": [
    "# Imports \n",
    "import cv2\n",
    "import numpy as np\n",
    "from sklearn.metrics import pairwise  # type: ignore"
   ]
  },
  {
   "cell_type": "code",
   "execution_count": 14,
   "metadata": {},
   "outputs": [],
   "source": [
    "background = None\n",
    "accumulated_weight = 0.5\n",
    "\n",
    "roi_top = 20\n",
    "roi_bottom = 300\n",
    "roi_right = 300\n",
    "roi_left = 600"
   ]
  },
  {
   "cell_type": "markdown",
   "metadata": {},
   "source": [
    "### Background Accumulation Function"
   ]
  },
  {
   "cell_type": "code",
   "execution_count": 15,
   "metadata": {},
   "outputs": [],
   "source": [
    "def calc_accum_avg(frame, accumulated_weight, background):\n",
    "    \"\"\"\n",
    "    Updates the accumulated background with the given frame using a specified weight.\n",
    "    \n",
    "    Parameters:\n",
    "        frame (numpy.ndarray): The current frame to be accumulated.\n",
    "        accumulated_weight (float): The weight of the current frame in the accumulation process. \n",
    "        background (numpy.ndarray): The current accumulated background to be updated.\n",
    "\n",
    "    Returns:\n",
    "        numpy.ndarray: The updated accumulated background.\n",
    "    \"\"\"\n",
    "    if background is None:\n",
    "        background = np.float32(frame)\n",
    "    else:\n",
    "        frame_float32 = np.float32(frame)\n",
    "        cv2.accumulateWeighted(frame_float32, background, accumulated_weight)\n",
    "    \n",
    "    return background"
   ]
  },
  {
   "cell_type": "markdown",
   "metadata": {},
   "source": [
    "### Hand Segmentation Function"
   ]
  },
  {
   "cell_type": "code",
   "execution_count": 16,
   "metadata": {},
   "outputs": [],
   "source": [
    "def segment(frame, background, threshold_min=25):\n",
    "    \"\"\"\n",
    "    Segments the largest region of change in an image based on the difference with a given background.\n",
    "    \n",
    "    Parameters:\n",
    "        frame (numpy.array): The current image where segmentation is performed.\n",
    "        background (numpy.array): The background image to compare against the current frame.\n",
    "        threshold_min (int): The minimum threshold value for binarization.\n",
    "    \n",
    "    Returns:\n",
    "        tuple: A tuple containing the binarized image and the contour of the largest segmented area, or None if no contours are found.\n",
    "    \"\"\"\n",
    "    # Calculate the absolute difference between the background and the current frame.\n",
    "    diff = cv2.absdiff(background.astype('uint8'), frame)\n",
    "    \n",
    "    # Apply thresholding to binarize the image.\n",
    "    _, thresholded = cv2.threshold(diff, threshold_min, 255, cv2.THRESH_BINARY)\n",
    "    \n",
    "    # Find contours in the binarized image.\n",
    "    contours, _ = cv2.findContours(thresholded.copy(), cv2.RETR_EXTERNAL, cv2.CHAIN_APPROX_SIMPLE)\n",
    "    \n",
    "    # Return None if no contours are found.\n",
    "    if not contours:\n",
    "        return None\n",
    "    \n",
    "    # Find the contour with the maximum area and return it.\n",
    "    hand_segment = max(contours, key=cv2.contourArea)\n",
    "    return (thresholded, hand_segment)"
   ]
  },
  {
   "cell_type": "markdown",
   "metadata": {},
   "source": [
    "### Count Fingers Function"
   ]
  },
  {
   "cell_type": "code",
   "execution_count": 17,
   "metadata": {},
   "outputs": [],
   "source": [
    "def count_fingers(thresholded, hand_segment):\n",
    "    \"\"\"\n",
    "    Counts the fingers visible in a given hand segment.\n",
    "    \n",
    "    Parameters:\n",
    "        thresholded (numpy.array): The thresholded image of the hand.\n",
    "        hand_segment (numpy.array): The contour of the hand segment.\n",
    "    \n",
    "    Returns:\n",
    "        int: The number of fingers counted.\n",
    "    \"\"\"\n",
    "    # Calculate the convex hull of the hand segment.\n",
    "    conv_hull = cv2.convexHull(hand_segment)\n",
    "    \n",
    "    # Find the extreme points on the convex hull.\n",
    "    top = tuple(conv_hull[conv_hull[:, :, 1].argmin()][0])\n",
    "    bottom = tuple(conv_hull[conv_hull[:, :, 1].argmax()][0])\n",
    "    left = tuple(conv_hull[conv_hull[:, :, 0].argmin()][0])\n",
    "    right = tuple(conv_hull[conv_hull[:, :, 0].argmax()][0])\n",
    "    \n",
    "    # Calculate the center of the hand.\n",
    "    cX = (left[0] + right[0]) // 2\n",
    "    cY = (top[1] + bottom[1]) // 2\n",
    "    \n",
    "    # Calculate the Euclidean distance between the center and the extreme points.\n",
    "    distance = pairwise.euclidean_distances([(cX, cY)], Y=[left, right, top, bottom])[0]\n",
    "    max_distance = distance.max()\n",
    "    \n",
    "    # Define the radius of the circular ROI.\n",
    "    radius = int(0.9 * max_distance)\n",
    "    \n",
    "    # Create a circular ROI.\n",
    "    circular_roi = np.zeros(thresholded.shape[:2], dtype='uint8')\n",
    "    cv2.circle(circular_roi, (cX, cY), radius, 255, 10)\n",
    "    \n",
    "    # Use the circular ROI to isolate the region of interest in the thresholded image.\n",
    "    circular_roi = cv2.bitwise_and(thresholded, thresholded, mask=circular_roi)\n",
    "    \n",
    "    # Find contours in the circular ROI.\n",
    "    contours, _ = cv2.findContours(circular_roi.copy(), cv2.RETR_EXTERNAL, cv2.CHAIN_APPROX_NONE)\n",
    "    \n",
    "    count = 0\n",
    "    \n",
    "    for contour in contours:\n",
    "        (x, y, w, h) = cv2.boundingRect(contour)\n",
    "        out_of_wrist = (cY + (cY * 0.25)) > (y + h)\n",
    "        limit_points = ((2 * np.pi * radius * 0.25) > contour.shape[0])\n",
    "        \n",
    "        if out_of_wrist and limit_points:\n",
    "            count += 1\n",
    "            \n",
    "    return count"
   ]
  },
  {
   "cell_type": "markdown",
   "metadata": {},
   "source": [
    "### Hand Tracking and Finger Counting Loop"
   ]
  },
  {
   "cell_type": "code",
   "execution_count": null,
   "metadata": {},
   "outputs": [],
   "source": [
    "cam = cv2.VideoCapture(0) \n",
    "\n",
    "num_frames = 0\n",
    "accumulated_weight = 0.5\n",
    "background = None\n",
    "\n",
    "roi_top = 20\n",
    "roi_bottom = 300\n",
    "roi_left = 300\n",
    "roi_right = 600\n",
    "\n",
    "while True:\n",
    "    ret, frame = cam.read()\n",
    "    if not ret:\n",
    "        print(\"Failed to capture video from camera.\")\n",
    "        break\n",
    "\n",
    "    frame_copy = frame.copy()\n",
    "\n",
    "    # Define and extract the Region of Interest (ROI) from the frame\n",
    "    # Ensuring the ROI does not exceed image dimensions\n",
    "    roi = frame_copy[max(0, roi_top):min(frame.shape[0], roi_bottom), max(0, roi_left):min(frame.shape[1], roi_right)]\n",
    "\n",
    "    # Convert the ROI to grayscale and apply Gaussian blur\n",
    "    gray = cv2.GaussianBlur(cv2.cvtColor(roi, cv2.COLOR_BGR2GRAY), (7, 7), 0)\n",
    "\n",
    "    if num_frames < 60:\n",
    "        background = calc_accum_avg(gray, accumulated_weight, background)\n",
    "        display_text = 'WAIT. GETTING BACKGROUND' if num_frames < 59 else ''\n",
    "    else:\n",
    "        hand = segment(gray, background, 25)\n",
    "        if hand:\n",
    "            thresholded, hand_segment = hand\n",
    "            \n",
    "            # Adjust the contours for correct visualization\n",
    "            shifted_contour = [cnt + np.array([roi_left, roi_top], dtype=np.int32) for cnt in hand_segment]\n",
    "            cv2.drawContours(frame_copy, shifted_contour, -1, (255, 0, 0), 1)\n",
    "            \n",
    "            # Count the fingers on the segmented hand\n",
    "            fingers = count_fingers(thresholded, hand_segment)\n",
    "            display_text = f'{fingers} fingers'\n",
    "            cv2.imshow('Thresholded', thresholded)\n",
    "\n",
    "    if display_text:\n",
    "        text_position = (roi_left + 70, roi_top + 50)\n",
    "        cv2.putText(frame_copy, display_text, text_position, cv2.FONT_HERSHEY_SIMPLEX, 1, (0, 255, 0), 2)\n",
    "        \n",
    "    cv2.rectangle(frame_copy, (roi_left, roi_top), (roi_right, roi_bottom), (0, 0, 255), 5)\n",
    "    cv2.imshow('Finger Count', frame_copy)\n",
    "    \n",
    "    num_frames += 1\n",
    "\n",
    "    if cv2.waitKey(1) & 0xFF == 27: # Press ESC to exit\n",
    "        break\n",
    "\n",
    "cam.release()\n",
    "cv2.destroyAllWindows()"
   ]
  }
 ],
 "metadata": {
  "kernelspec": {
   "display_name": "Python 3",
   "language": "python",
   "name": "python3"
  },
  "language_info": {
   "codemirror_mode": {
    "name": "ipython",
    "version": 3
   },
   "file_extension": ".py",
   "mimetype": "text/x-python",
   "name": "python",
   "nbconvert_exporter": "python",
   "pygments_lexer": "ipython3",
   "version": "3.12.3"
  }
 },
 "nbformat": 4,
 "nbformat_minor": 2
}
